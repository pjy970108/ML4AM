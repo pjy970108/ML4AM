{
 "cells": [
  {
   "cell_type": "code",
   "execution_count": 2,
   "metadata": {},
   "outputs": [],
   "source": [
    "import numpy as np, pandas as pd\n",
    "\n",
    "def mpPDF(var, q, pts):\n",
    "    #Marcenko-pastur pdf\n",
    "    #q=T/N\n",
    "    eMin, eMax = var*(1-(1./q)**.5)**2, var*(1+(1./q)**.5)**2\n",
    "    eVal = np.linspace(eMin, eMax, pts)\n",
    "    pdf = q/(2*np.pi*var*eVal)*((eMax-eVal)*(eVal-eMin))**.5\n",
    "    pdf = pd.Series(pdf, index=eVal)\n",
    "\n",
    "    return pdf\n",
    "\n"
   ]
  },
  {
   "cell_type": "code",
   "execution_count": 3,
   "metadata": {},
   "outputs": [],
   "source": [
    "from sklearn.neighbors import KernelDensity\n",
    "\n",
    "def getPCA(matrix):\n",
    "    #에르미트 행렬(Hermitian matrix)로 부터 eVal, eVec을 얻는다\n",
    "    eVal, eVec = np.linalg.eigh(matrix)\n",
    "    indices=eVal.argsort()[::-1] #eval을 내림차순으로 정렬하고 그 인덱스를 추출한다.\n",
    "    eVal, eVec = eVal[indices], eVec[:, indices]\n",
    "    eVal = np.diagflat(eVal)\n",
    "    return eVal, eVec\n",
    "\n",
    "def fitKDE(obs, bwidth=.25, kernel='gaussian', x=None):\n",
    "    #커널을 관측시리즈에 적합화하고, 관측확률을 도출한다.\n",
    "    # x는 kde가 평가된 값의 배열이다.\n",
    "    if len(obs.shape)==1:obs=obs.reshape(-1,1)\n",
    "    kde = KernelDensity(kernel=kernel, bandwidth=bwidth).fit(obs)\n",
    "    if x is None:x=np.unique(obs).reshape(-1, 1)\n",
    "    if len(x.shape)==1 : x=x.reshape(-1,1)\n",
    "    logProb=kde.score_samples(x) #log(density)\n",
    "    pdf = pd.Series(np.exp(logProb), index=x.flatten())\n",
    "    return pdf\n",
    "\n",
    "x = np.random.normal(size=(10000, 1000))\n",
    "eVal0, eVec0 = getPCA(np.corrcoef(x,rowvar=0))\n",
    "pdf0 = mpPDF(1., q=x.shape[0]/float(x.shape[1]), pts=1000)\n",
    "pdf1 = fitKDE(np.diag(eVal0), bwidth=.01)#empirical pdf\n",
    "    "
   ]
  },
  {
   "cell_type": "code",
   "execution_count": null,
   "metadata": {},
   "outputs": [],
   "source": [
    "pdf0"
   ]
  }
 ],
 "metadata": {
  "kernelspec": {
   "display_name": "basic_env",
   "language": "python",
   "name": "python3"
  },
  "language_info": {
   "codemirror_mode": {
    "name": "ipython",
    "version": 3
   },
   "file_extension": ".py",
   "mimetype": "text/x-python",
   "name": "python",
   "nbconvert_exporter": "python",
   "pygments_lexer": "ipython3",
   "version": "3.11.3"
  },
  "orig_nbformat": 4
 },
 "nbformat": 4,
 "nbformat_minor": 2
}
